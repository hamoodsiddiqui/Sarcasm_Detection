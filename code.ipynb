{
 "cells": [
  {
   "cell_type": "code",
   "execution_count": 1,
   "id": "a671240c-091b-44e7-b61b-e65ca0aaaeea",
   "metadata": {},
   "outputs": [],
   "source": [
    "import pandas as pd\n",
    "import numpy as np\n",
    "from sklearn.model_selection import train_test_split\n",
    "from imblearn.over_sampling import RandomOverSampler\n",
    "from sklearn.pipeline import Pipeline\n",
    "from sklearn.feature_extraction.text import CountVectorizer, TfidfVectorizer\n",
    "from sklearn.neighbors import KNeighborsClassifier\n",
    "from sklearn.naive_bayes import MultinomialNB\n",
    "from sklearn.ensemble import RandomForestClassifier\n",
    "from sklearn.svm import SVC\n",
    "from sklearn.metrics import classification_report, confusion_matrix\n",
    "import seaborn as sns\n",
    "import matplotlib.pyplot as plt\n",
    "import joblib"
   ]
  },
  {
   "cell_type": "code",
   "execution_count": 15,
   "id": "d3ec3150-1891-48a5-bc0e-185eb6af1fc5",
   "metadata": {},
   "outputs": [],
   "source": [
    "df = pd.read_csv(\"../lemmatized_df.csv\")\n",
    "\n",
    "df.drop(\"Unnamed: 0\", axis = 1, inplace = True)"
   ]
  },
  {
   "cell_type": "code",
   "execution_count": 16,
   "id": "44dbec4e-8831-48a8-8022-275cd80ddb79",
   "metadata": {},
   "outputs": [
    {
     "data": {
      "text/html": [
       "<div>\n",
       "<style scoped>\n",
       "    .dataframe tbody tr th:only-of-type {\n",
       "        vertical-align: middle;\n",
       "    }\n",
       "\n",
       "    .dataframe tbody tr th {\n",
       "        vertical-align: top;\n",
       "    }\n",
       "\n",
       "    .dataframe thead th {\n",
       "        text-align: right;\n",
       "    }\n",
       "</style>\n",
       "<table border=\"1\" class=\"dataframe\">\n",
       "  <thead>\n",
       "    <tr style=\"text-align: right;\">\n",
       "      <th></th>\n",
       "      <th>headline</th>\n",
       "      <th>is_sarcastic</th>\n",
       "    </tr>\n",
       "  </thead>\n",
       "  <tbody>\n",
       "    <tr>\n",
       "      <th>0</th>\n",
       "      <td>former versace store clerk sue over secret ' b...</td>\n",
       "      <td>0</td>\n",
       "    </tr>\n",
       "    <tr>\n",
       "      <th>1</th>\n",
       "      <td>the ' roseanne ' revival catch up to our thorn...</td>\n",
       "      <td>0</td>\n",
       "    </tr>\n",
       "    <tr>\n",
       "      <th>2</th>\n",
       "      <td>mom start to fear son 's web series close thin...</td>\n",
       "      <td>1</td>\n",
       "    </tr>\n",
       "    <tr>\n",
       "      <th>3</th>\n",
       "      <td>boehner just want wife to listen , not come up...</td>\n",
       "      <td>1</td>\n",
       "    </tr>\n",
       "    <tr>\n",
       "      <th>4</th>\n",
       "      <td>j.k . rowling wish snape happy birthday in the...</td>\n",
       "      <td>0</td>\n",
       "    </tr>\n",
       "    <tr>\n",
       "      <th>...</th>\n",
       "      <td>...</td>\n",
       "      <td>...</td>\n",
       "    </tr>\n",
       "    <tr>\n",
       "      <th>26704</th>\n",
       "      <td>american politic in moral free - fall</td>\n",
       "      <td>0</td>\n",
       "    </tr>\n",
       "    <tr>\n",
       "      <th>26705</th>\n",
       "      <td>america 's good 20 hike</td>\n",
       "      <td>0</td>\n",
       "    </tr>\n",
       "    <tr>\n",
       "      <th>26706</th>\n",
       "      <td>reparation and obama</td>\n",
       "      <td>0</td>\n",
       "    </tr>\n",
       "    <tr>\n",
       "      <th>26707</th>\n",
       "      <td>israeli ban target boycott supporter raise ala...</td>\n",
       "      <td>0</td>\n",
       "    </tr>\n",
       "    <tr>\n",
       "      <th>26708</th>\n",
       "      <td>gourmet gift for the foodie 2014</td>\n",
       "      <td>0</td>\n",
       "    </tr>\n",
       "  </tbody>\n",
       "</table>\n",
       "<p>26709 rows × 2 columns</p>\n",
       "</div>"
      ],
      "text/plain": [
       "                                                headline  is_sarcastic\n",
       "0      former versace store clerk sue over secret ' b...             0\n",
       "1      the ' roseanne ' revival catch up to our thorn...             0\n",
       "2      mom start to fear son 's web series close thin...             1\n",
       "3      boehner just want wife to listen , not come up...             1\n",
       "4      j.k . rowling wish snape happy birthday in the...             0\n",
       "...                                                  ...           ...\n",
       "26704              american politic in moral free - fall             0\n",
       "26705                            america 's good 20 hike             0\n",
       "26706                               reparation and obama             0\n",
       "26707  israeli ban target boycott supporter raise ala...             0\n",
       "26708                   gourmet gift for the foodie 2014             0\n",
       "\n",
       "[26709 rows x 2 columns]"
      ]
     },
     "execution_count": 16,
     "metadata": {},
     "output_type": "execute_result"
    }
   ],
   "source": [
    "df"
   ]
  },
  {
   "cell_type": "code",
   "execution_count": 17,
   "id": "aa46aad0-6e9b-4501-b45b-d746682be2ee",
   "metadata": {},
   "outputs": [],
   "source": [
    "X = df[\"headline\"]\n",
    "y = df[\"is_sarcastic\"]"
   ]
  },
  {
   "cell_type": "code",
   "execution_count": 18,
   "id": "e87e8ea2-39d2-4357-87e3-bce5eafcf3ee",
   "metadata": {},
   "outputs": [],
   "source": [
    "X_train, X_test, y_train, y_test = train_test_split(X, y, test_size = 0.2, random_state = 0)"
   ]
  },
  {
   "cell_type": "code",
   "execution_count": 19,
   "id": "5b3613a1-3ce8-4c66-be93-877d15c4bd01",
   "metadata": {},
   "outputs": [
    {
     "data": {
      "text/plain": [
       "is_sarcastic\n",
       "0    11978\n",
       "1     9389\n",
       "Name: count, dtype: int64"
      ]
     },
     "execution_count": 19,
     "metadata": {},
     "output_type": "execute_result"
    }
   ],
   "source": [
    "y_train.value_counts()"
   ]
  },
  {
   "cell_type": "code",
   "execution_count": 23,
   "id": "954954bb-2e41-46d3-927c-07086fcd7007",
   "metadata": {},
   "outputs": [],
   "source": [
    "ros = RandomOverSampler()\n",
    "\n",
    "X_train, y_train = ros.fit_resample(np.array(X_train).reshape(-1, 1), y_train)"
   ]
  },
  {
   "cell_type": "code",
   "execution_count": 24,
   "id": "9029caba-9ccb-4e8e-8055-539950719e64",
   "metadata": {},
   "outputs": [
    {
     "data": {
      "text/plain": [
       "is_sarcastic\n",
       "1    11978\n",
       "0    11978\n",
       "Name: count, dtype: int64"
      ]
     },
     "execution_count": 24,
     "metadata": {},
     "output_type": "execute_result"
    }
   ],
   "source": [
    "y_train.value_counts()"
   ]
  },
  {
   "cell_type": "markdown",
   "id": "2785b0e5-d74a-41d5-9c53-10cc26eb98d3",
   "metadata": {},
   "source": [
    "# KNN"
   ]
  },
  {
   "cell_type": "code",
   "execution_count": 31,
   "id": "e05c7dd2-7c20-4766-858b-208b7574533b",
   "metadata": {},
   "outputs": [
    {
     "name": "stdout",
     "output_type": "stream",
     "text": [
      "              precision    recall  f1-score   support\n",
      "\n",
      "           0       0.59      0.81      0.69      3007\n",
      "           1       0.54      0.28      0.37      2335\n",
      "\n",
      "    accuracy                           0.58      5342\n",
      "   macro avg       0.57      0.55      0.53      5342\n",
      "weighted avg       0.57      0.58      0.55      5342\n",
      "\n"
     ]
    },
    {
     "data": {
      "image/png": "[encoded data removed]",
      "text/plain": [
       "<Figure size 640x480 with 2 Axes>"
      ]
     },
     "metadata": {},
     "output_type": "display_data"
    }
   ],
   "source": [
    "knn_classifier_pipeline = Pipeline([\n",
    "    (\"vectorizer\", CountVectorizer(ngram_range=(1, 3))),\n",
    "    (\"knn_classifier\", KNeighborsClassifier())\n",
    "])\n",
    "\n",
    "knn_classifier_pipeline.fit(X_train.squeeze(), y_train)\n",
    "\n",
    "predictions = knn_classifier_pipeline.predict(X_test)\n",
    "\n",
    "print(classification_report(y_test, predictions))\n",
    "\n",
    "sns.heatmap(confusion_matrix(y_test, predictions), annot = True, fmt = \"d\")\n",
    "plt.xlabel(\"Predicted Classes\")\n",
    "plt.ylabel(\"True Classes\")\n",
    "plt.show()"
   ]
  },
  {
   "cell_type": "markdown",
   "id": "5f49994b-c7c2-4823-ac40-12abba3f8968",
   "metadata": {},
   "source": [
    "# Naive Bayes"
   ]
  },
  {
   "cell_type": "code",
   "execution_count": 38,
   "id": "7c9da265-28de-4c7c-a582-aa37e066a9f0",
   "metadata": {},
   "outputs": [
    {
     "name": "stdout",
     "output_type": "stream",
     "text": [
      "              precision    recall  f1-score   support\n",
      "\n",
      "           0       0.86      0.87      0.87      3007\n",
      "           1       0.83      0.82      0.83      2335\n",
      "\n",
      "    accuracy                           0.85      5342\n",
      "   macro avg       0.85      0.85      0.85      5342\n",
      "weighted avg       0.85      0.85      0.85      5342\n",
      "\n"
     ]
    },
    {
     "data": {
      "image/png": "[encoded data removed]",
      "text/plain": [
       "<Figure size 640x480 with 2 Axes>"
      ]
     },
     "metadata": {},
     "output_type": "display_data"
    }
   ],
   "source": [
    "naive_bayes_classifier_pipeline = Pipeline([\n",
    "    (\"vectorizer\", CountVectorizer(ngram_range=(1, 3))),\n",
    "    (\"naive_bayes_classifier\", MultinomialNB())\n",
    "])\n",
    "\n",
    "naive_bayes_classifier_pipeline.fit(X_train.squeeze(), y_train)\n",
    "\n",
    "predictions = naive_bayes_classifier_pipeline.predict(X_test)\n",
    "\n",
    "print(classification_report(y_test, predictions))\n",
    "\n",
    "sns.heatmap(confusion_matrix(y_test, predictions), annot = True, fmt = \"d\")\n",
    "plt.xlabel(\"Predicted Classes\")\n",
    "plt.ylabel(\"True Classes\")\n",
    "plt.show()"
   ]
  },
  {
   "cell_type": "markdown",
   "id": "86ee9e60-0576-4f8b-b554-874f19a12fcb",
   "metadata": {},
   "source": [
    "# Random Forest Classifier"
   ]
  },
  {
   "cell_type": "code",
   "execution_count": 40,
   "id": "39bc1225-6f9a-457b-9bce-3e44e81b2ef5",
   "metadata": {},
   "outputs": [
    {
     "name": "stdout",
     "output_type": "stream",
     "text": [
      "              precision    recall  f1-score   support\n",
      "\n",
      "           0       0.86      0.80      0.83      3007\n",
      "           1       0.76      0.83      0.79      2335\n",
      "\n",
      "    accuracy                           0.81      5342\n",
      "   macro avg       0.81      0.81      0.81      5342\n",
      "weighted avg       0.81      0.81      0.81      5342\n",
      "\n"
     ]
    },
    {
     "data": {
      "image/png": "[encoded data removed]",
      "text/plain": [
       "<Figure size 640x480 with 2 Axes>"
      ]
     },
     "metadata": {},
     "output_type": "display_data"
    }
   ],
   "source": [
    "random_forest_classifier_pipeline = Pipeline([\n",
    "    (\"vectorizer\", CountVectorizer(ngram_range=(1, 3))),\n",
    "    (\"random_forest_classifier\", RandomForestClassifier())\n",
    "])\n",
    "\n",
    "random_forest_classifier_pipeline.fit(X_train.squeeze(), y_train)\n",
    "\n",
    "predictions = random_forest_classifier_pipeline.predict(X_test)\n",
    "\n",
    "print(classification_report(y_test, predictions))\n",
    "\n",
    "sns.heatmap(confusion_matrix(y_test, predictions), annot = True, fmt = \"d\")\n",
    "plt.xlabel(\"Predicted Classes\")\n",
    "plt.ylabel(\"True Classes\")\n",
    "plt.show()"
   ]
  },
  {
   "cell_type": "markdown",
   "id": "c4daa51d-143d-42d2-8a73-8010200dce7b",
   "metadata": {},
   "source": [
    "# SVM"
   ]
  },
  {
   "cell_type": "code",
   "execution_count": 63,
   "id": "6961896e-7e24-4b8b-97c6-2e47c6f93b10",
   "metadata": {},
   "outputs": [
    {
     "name": "stdout",
     "output_type": "stream",
     "text": [
      "              precision    recall  f1-score   support\n",
      "\n",
      "           0       0.85      0.88      0.87      3007\n",
      "           1       0.84      0.81      0.82      2335\n",
      "\n",
      "    accuracy                           0.85      5342\n",
      "   macro avg       0.85      0.84      0.84      5342\n",
      "weighted avg       0.85      0.85      0.85      5342\n",
      "\n"
     ]
    },
    {
     "data": {
      "image/png": "[encoded data removed]",
      "text/plain": [
       "<Figure size 640x480 with 2 Axes>"
      ]
     },
     "metadata": {},
     "output_type": "display_data"
    }
   ],
   "source": [
    "svm_classifier_pipeline = Pipeline([\n",
    "    (\"vectorizer\", CountVectorizer(ngram_range=(1, 3))),\n",
    "    (\"random_forest_classifier\", SVC(kernel='linear'))\n",
    "])\n",
    "\n",
    "svm_classifier_pipeline.fit(X_train.squeeze(), y_train)\n",
    "\n",
    "predictions = svm_classifier_pipeline.predict(X_test)\n",
    "\n",
    "print(classification_report(y_test, predictions))\n",
    "\n",
    "sns.heatmap(confusion_matrix(y_test, predictions), annot = True, fmt = \"d\")\n",
    "plt.xlabel(\"True Classes\")\n",
    "plt.ylabel(\"Predicted Classes\")\n",
    "plt.show()"
   ]
  },
  {
   "cell_type": "code",
   "execution_count": 61,
   "id": "54b078f3-b655-4e1f-ae68-c6e8e9a2839f",
   "metadata": {},
   "outputs": [
    {
     "data": {
      "text/plain": [
       "array([0], dtype=int64)"
      ]
     },
     "execution_count": 61,
     "metadata": {},
     "output_type": "execute_result"
    }
   ],
   "source": [
    "naive_bayes_classifier_pipeline.predict([\"he is so smart that he can achieve A grade in even the most difficult\"])"
   ]
  },
  {
   "cell_type": "code",
   "execution_count": 42,
   "id": "c09a0182-c820-4b26-bfe2-51095b639bcc",
   "metadata": {},
   "outputs": [
    {
     "data": {
      "text/plain": [
       "['./naive_bayes_classifier.pkl']"
      ]
     },
     "execution_count": 42,
     "metadata": {},
     "output_type": "execute_result"
    }
   ],
   "source": [
    "joblib.dump(naive_bayes_classifier_pipeline, \"./naive_bayes_classifier.pkl\")"
   ]
  },
  {
   "cell_type": "code",
   "execution_count": 64,
   "id": "cea5419b-128f-4ba0-9178-62573d04d4f9",
   "metadata": {},
   "outputs": [
    {
     "data": {
      "text/plain": [
       "['./naive_bayes_classifier.pkl']"
      ]
     },
     "execution_count": 64,
     "metadata": {},
     "output_type": "execute_result"
    }
   ],
   "source": [
    "# joblib.dump(svm_classifier_pipeline, \"./naive_bayes_classifier.pkl\")"
   ]
  },
  {
   "cell_type": "code",
   "execution_count": 2,
   "id": "0ae37579-47c8-43bf-8174-f066258b06a6",
   "metadata": {},
   "outputs": [],
   "source": [
    "model = joblib.load(\"./naive_bayes_classifier.pkl\")"
   ]
  },
  {
   "cell_type": "code",
   "execution_count": 10,
   "id": "776f3e06-a3f5-4910-a241-254a8da6aff7",
   "metadata": {},
   "outputs": [
    {
     "data": {
      "text/plain": [
       "array([1], dtype=int64)"
      ]
     },
     "execution_count": 10,
     "metadata": {},
     "output_type": "execute_result"
    }
   ],
   "source": [
    "model.predict([\"science - fiction novel posit future where character be hastily sketch\"])"
   ]
  },
  {
   "cell_type": "code",
   "execution_count": null,
   "id": "9617fbe0-3f87-4815-876c-f9e9a3b24e79",
   "metadata": {},
   "outputs": [],
   "source": []
  }
 ],
 "metadata": {
  "kernelspec": {
   "display_name": "Python 3 (ipykernel)",
   "language": "python",
   "name": "python3"
  },
  "language_info": {
   "codemirror_mode": {
    "name": "ipython",
    "version": 3
   },
   "file_extension": ".py",
   "mimetype": "text/x-python",
   "name": "python",
   "nbconvert_exporter": "python",
   "pygments_lexer": "ipython3",
   "version": "3.12.2"
  }
 },
 "nbformat": 4,
 "nbformat_minor": 5
}
